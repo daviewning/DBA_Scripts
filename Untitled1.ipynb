{
 "cells": [
  {
   "cell_type": "code",
   "execution_count": 52,
   "id": "e25352f8",
   "metadata": {},
   "outputs": [],
   "source": [
    "import os\n",
    "import gnupg\n",
    "from pprint import pprint"
   ]
  },
  {
   "cell_type": "code",
   "execution_count": null,
   "id": "41796516",
   "metadata": {},
   "outputs": [],
   "source": [
    "#Setup the path for all files "
   ]
  },
  {
   "cell_type": "code",
   "execution_count": 53,
   "id": "eac7a780",
   "metadata": {},
   "outputs": [],
   "source": [
    "newhome = \"C:\\\\Users\\\\newzoneadmin\\\\Documents\\\\Python Scripts\\\\gpghome\""
   ]
  },
  {
   "cell_type": "code",
   "execution_count": 54,
   "id": "1f7a9368",
   "metadata": {},
   "outputs": [],
   "source": [
    "export_key_file = \"C:\\\\Users\\\\newzoneadmin\\\\Documents\\\\Python Scripts\\\\gpghome\\\\mykeyfile.asc\""
   ]
  },
  {
   "cell_type": "code",
   "execution_count": 55,
   "id": "611ee4a6",
   "metadata": {},
   "outputs": [],
   "source": [
    "unencrypted_file = \"C:\\\\Users\\\\newzoneadmin\\\\Documents\\\\Python Scripts\\\\gpghome\\\\my-unencrypted.txt\""
   ]
  },
  {
   "cell_type": "code",
   "execution_count": 56,
   "id": "7234068a",
   "metadata": {},
   "outputs": [],
   "source": [
    "encrypted_file = \"C:\\\\Users\\\\newzoneadmin\\\\Documents\\\\Python Scripts\\\\gpghome\\\\my-encrypted.txt\""
   ]
  },
  {
   "cell_type": "code",
   "execution_count": 59,
   "id": "84a3e701",
   "metadata": {},
   "outputs": [],
   "source": [
    "decrypted_file = \"C:\\\\Users\\\\newzoneadmin\\\\Documents\\\\Python Scripts\\\\gpghome\\\\my-decrypted.txt\""
   ]
  },
  {
   "cell_type": "code",
   "execution_count": null,
   "id": "896b0e4f",
   "metadata": {},
   "outputs": [],
   "source": [
    "#Check to make sure the pgp home directory is exist"
   ]
  },
  {
   "cell_type": "code",
   "execution_count": 28,
   "id": "0028ba7d",
   "metadata": {},
   "outputs": [
    {
     "name": "stdout",
     "output_type": "stream",
     "text": [
      "The C:\\Users\\newzoneadmin\\Documents\\Python Scripts\\gpghome directory already exists.\n"
     ]
    }
   ],
   "source": [
    "if os.path.exists(newhome) is True:\n",
    "    print(\"The {0} directory already exists.\".format(newhome))\n",
    "else:\n",
    "    print(\"Creating the {0} directory.\".format(newhome))\n",
    "    os.mkdir(newhome)\n",
    "    os.chmod(newhome, 0o700)"
   ]
  },
  {
   "cell_type": "code",
   "execution_count": 29,
   "id": "c5d7c972",
   "metadata": {},
   "outputs": [],
   "source": [
    "# Generate a key for Encrypt file"
   ]
  },
  {
   "cell_type": "code",
   "execution_count": 33,
   "id": "e2617a1c",
   "metadata": {},
   "outputs": [
    {
     "name": "stdout",
     "output_type": "stream",
     "text": [
      "12E89F6E855831E1454B72D75D15F931178E4CEB\n",
      "<class 'str'>\n"
     ]
    }
   ],
   "source": [
    "gpg = gnupg.GPG(gnupghome=newhome)\n",
    "gpg.encoding = 'utf-8'\n",
    "input_data = gpg.gen_key_input(\n",
    "    name_email='daviewning@msn.com',\n",
    "    passphrase='mypassphrase')\n",
    "key = str(gpg.gen_key(input_data))\n",
    "print(key)\n",
    "print(type(key))"
   ]
  },
  {
   "cell_type": "code",
   "execution_count": 34,
   "id": "a533c90a",
   "metadata": {},
   "outputs": [],
   "source": [
    "#Export the key"
   ]
  },
  {
   "cell_type": "code",
   "execution_count": 38,
   "id": "18b1fb66",
   "metadata": {},
   "outputs": [
    {
     "name": "stdout",
     "output_type": "stream",
     "text": [
      "-----BEGIN PGP PUBLIC KEY BLOCK-----\r\n",
      "\r\n",
      "mQENBGOG8J8BCADAfvDWRZo8iAwF/mB/fkvRvh8KeTy6QEdQ5Op8O6HMuUZ+zyBc\r\n",
      "Cb6Mq+f3UYq/O/Bn0cezHwl1yOj8kKHdJ4BH3Emkd1HWX8YxngK5E+Qz1B7i5R5B\r\n",
      "depXUKTakeWjjNUBi0+vNpNiOu5ZSCoUklI/SK839nIgEHmSad3/lU2WN3F7xLNr\r\n",
      "s79ZWncVhKGuh6QsvXGgbDcVSkshFnHgKpnfyQbTCZOPC8LzZ9j8OCx1H4Q2KQ0l\r\n",
      "qk0/KZOhII37RyjLYrq3fyvCIkLgezNljkTDH2bUh1udwTz/F48lGtcwNbjdMjM1\r\n",
      "6+F5jnr+Kym3+TPP4zrTfdS0qAIVNRPVCc15ABEBAAG0JkF1dG9nZW5lcmF0ZWQg\r\n",
      "S2V5IDxkYXZpZXduaW5nQG1zbi5jb20+iQFRBBMBCAA7FiEEEuifboVYMeFFS3LX\r\n",
      "XRX5MReOTOsFAmOG8J8CGy8FCwkIBwICIgIGFQoJCAsCBBYCAwECHgcCF4AACgkQ\r\n",
      "XRX5MReOTOvxYgf9EToycJ6pWEecWDzNMCrdIihQBJAMgIh/HxIAB+Bv7RpPS5qT\r\n",
      "BOjBWAwFdXfLX+Rup/KvphwXbtMfe+UExdHgnaqGLYhB9NKyX9ADxgGDbOAGd95R\r\n",
      "RHN2zU4qBtbHLRTIIl4c6weduNeQTJrSuXJVbEypVbf1aapWKVX33XAV4L4WiSVc\r\n",
      "/3DX+ucV46r5S0MDqETm4R/NqtWzxvkcoTP0v9M9qKL9SmIUtXawVLn3t6+Qoj30\r\n",
      "yBfKUGhFsh93redMF4H/lOK0L/ww6hkN4bPs/dFRD/jXYJrlHZdMypYOSQzAl7Xc\r\n",
      "hCbAEDBlLNx3tEbq516gaEOrhYIxAJ9p0kMDOA==\r\n",
      "=KGhv\r\n",
      "-----END PGP PUBLIC KEY BLOCK-----\r\n",
      "\n"
     ]
    }
   ],
   "source": [
    "ascii_armored_public_keys = gpg.export_keys(key)\n",
    "#ascii_armored_private_keys = gpg.export_keys(key, True)\n",
    "print(ascii_armored_public_keys)\n",
    "#print(ascii_armored_private_keys)\n",
    "with open(export_key_file, 'w') as f:\n",
    "    f.write(ascii_armored_public_keys)\n",
    "#    f.write(ascii_armored_private_keys)"
   ]
  },
  {
   "cell_type": "code",
   "execution_count": 40,
   "id": "d87f7d73",
   "metadata": {},
   "outputs": [
    {
     "name": "stdout",
     "output_type": "stream",
     "text": [
      "public keys:\n",
      "[{'algo': '1',\n",
      "  'cap': 'escaESCA',\n",
      "  'compliance': '23',\n",
      "  'curve': '',\n",
      "  'date': '1669786726',\n",
      "  'dummy': '',\n",
      "  'expires': '',\n",
      "  'fingerprint': '26F2BCC1C24DBEAA07E47CB9698F47E8C06B8690',\n",
      "  'flag': '',\n",
      "  'hash': '',\n",
      "  'issuer': '',\n",
      "  'keygrip': '110EB41CF25069634B2F78078C69F0B6B6E65BF7',\n",
      "  'keyid': '698F47E8C06B8690',\n",
      "  'length': '2048',\n",
      "  'origin': '0',\n",
      "  'ownertrust': 'u',\n",
      "  'sig': '',\n",
      "  'sigs': [],\n",
      "  'subkeys': [],\n",
      "  'token': '',\n",
      "  'trust': 'u',\n",
      "  'type': 'pub',\n",
      "  'uids': ['Autogenerated Key <daviewning@msn.com>'],\n",
      "  'updated': ''},\n",
      " {'algo': '1',\n",
      "  'cap': 'escaESCA',\n",
      "  'compliance': '23',\n",
      "  'curve': '',\n",
      "  'date': '1669786976',\n",
      "  'dummy': '',\n",
      "  'expires': '',\n",
      "  'fingerprint': '3185684DCAC12F09E5211604D75241E15A259829',\n",
      "  'flag': '',\n",
      "  'hash': '',\n",
      "  'issuer': '',\n",
      "  'keygrip': '142832FE5411B2D266BA913F9F16A7D2982C1235',\n",
      "  'keyid': 'D75241E15A259829',\n",
      "  'length': '2048',\n",
      "  'origin': '0',\n",
      "  'ownertrust': 'u',\n",
      "  'sig': '',\n",
      "  'sigs': [],\n",
      "  'subkeys': [],\n",
      "  'token': '',\n",
      "  'trust': 'u',\n",
      "  'type': 'pub',\n",
      "  'uids': ['Autogenerated Key <daviewning@msn.com>'],\n",
      "  'updated': ''},\n",
      " {'algo': '1',\n",
      "  'cap': 'escaESCA',\n",
      "  'compliance': '23',\n",
      "  'curve': '',\n",
      "  'date': '1669787442',\n",
      "  'dummy': '',\n",
      "  'expires': '',\n",
      "  'fingerprint': '80E998FE3B0B0A0C568771CCF5F19E93219FF72B',\n",
      "  'flag': '',\n",
      "  'hash': '',\n",
      "  'issuer': '',\n",
      "  'keygrip': 'C995AF3A87A44033CAEE33E1AAFEE883808BC826',\n",
      "  'keyid': 'F5F19E93219FF72B',\n",
      "  'length': '2048',\n",
      "  'origin': '0',\n",
      "  'ownertrust': 'u',\n",
      "  'sig': '',\n",
      "  'sigs': [],\n",
      "  'subkeys': [],\n",
      "  'token': '',\n",
      "  'trust': 'u',\n",
      "  'type': 'pub',\n",
      "  'uids': ['Autogenerated Key <daviewning@msn.com>'],\n",
      "  'updated': ''},\n",
      " {'algo': '1',\n",
      "  'cap': 'escaESCA',\n",
      "  'compliance': '23',\n",
      "  'curve': '',\n",
      "  'date': '1669787688',\n",
      "  'dummy': '',\n",
      "  'expires': '',\n",
      "  'fingerprint': '8552D5ABD2643C546977CD2ABC9BE594E9D398EE',\n",
      "  'flag': '',\n",
      "  'hash': '',\n",
      "  'issuer': '',\n",
      "  'keygrip': '02DDBE8930B8206FB8E5A36358510CA95BD17714',\n",
      "  'keyid': 'BC9BE594E9D398EE',\n",
      "  'length': '2048',\n",
      "  'origin': '0',\n",
      "  'ownertrust': 'u',\n",
      "  'sig': '',\n",
      "  'sigs': [],\n",
      "  'subkeys': [],\n",
      "  'token': '',\n",
      "  'trust': 'u',\n",
      "  'type': 'pub',\n",
      "  'uids': ['Autogenerated Key <daviewning@msn.com>'],\n",
      "  'updated': ''},\n",
      " {'algo': '1',\n",
      "  'cap': 'escaESCA',\n",
      "  'compliance': '23',\n",
      "  'curve': '',\n",
      "  'date': '1669787807',\n",
      "  'dummy': '',\n",
      "  'expires': '',\n",
      "  'fingerprint': '12E89F6E855831E1454B72D75D15F931178E4CEB',\n",
      "  'flag': '',\n",
      "  'hash': '',\n",
      "  'issuer': '',\n",
      "  'keygrip': 'B9C0B8796B288628434770097D474CFEECA4546D',\n",
      "  'keyid': '5D15F931178E4CEB',\n",
      "  'length': '2048',\n",
      "  'origin': '0',\n",
      "  'ownertrust': 'u',\n",
      "  'sig': '',\n",
      "  'sigs': [],\n",
      "  'subkeys': [],\n",
      "  'token': '',\n",
      "  'trust': 'u',\n",
      "  'type': 'pub',\n",
      "  'uids': ['Autogenerated Key <daviewning@msn.com>'],\n",
      "  'updated': ''}]\n"
     ]
    }
   ],
   "source": [
    "public_keys = gpg.list_keys()\n",
    "print('public keys:')\n",
    "pprint(public_keys)"
   ]
  },
  {
   "cell_type": "code",
   "execution_count": null,
   "id": "64a96d89",
   "metadata": {},
   "outputs": [],
   "source": [
    "#Encrypt file"
   ]
  },
  {
   "cell_type": "code",
   "execution_count": 57,
   "id": "8817eb85",
   "metadata": {},
   "outputs": [
    {
     "name": "stdout",
     "output_type": "stream",
     "text": [
      "ok: \n",
      "True\n",
      "status: \n",
      "encryption ok\n",
      "stderr: \n",
      "[GNUPG:] KEY_CONSIDERED 26F2BCC1C24DBEAA07E47CB9698F47E8C06B8690 0\r\n",
      "[GNUPG:] KEY_CONSIDERED 26F2BCC1C24DBEAA07E47CB9698F47E8C06B8690 2\r\n",
      "[GNUPG:] KEY_CONSIDERED 3185684DCAC12F09E5211604D75241E15A259829 0\r\n",
      "[GNUPG:] KEY_CONSIDERED 3185684DCAC12F09E5211604D75241E15A259829 2\r\n",
      "[GNUPG:] KEY_CONSIDERED 80E998FE3B0B0A0C568771CCF5F19E93219FF72B 0\r\n",
      "[GNUPG:] KEY_CONSIDERED 80E998FE3B0B0A0C568771CCF5F19E93219FF72B 2\r\n",
      "[GNUPG:] KEY_CONSIDERED 8552D5ABD2643C546977CD2ABC9BE594E9D398EE 0\r\n",
      "[GNUPG:] KEY_CONSIDERED 8552D5ABD2643C546977CD2ABC9BE594E9D398EE 2\r\n",
      "[GNUPG:] KEY_CONSIDERED 12E89F6E855831E1454B72D75D15F931178E4CEB 0\r\n",
      "[GNUPG:] KEY_CONSIDERED 12E89F6E855831E1454B72D75D15F931178E4CEB 2\r\n",
      "[GNUPG:] KEY_CONSIDERED 12E89F6E855831E1454B72D75D15F931178E4CEB 0\r\n",
      "[GNUPG:] BEGIN_ENCRYPTION 0 9 2\r\n",
      "[GNUPG:] END_ENCRYPTION\r\n",
      "\n"
     ]
    }
   ],
   "source": [
    "open(unencrypted_file, 'w').write('You need to Google Venn diagram.')\n",
    "with open(unencrypted_file, 'rb') as f:\n",
    "    status = gpg.encrypt_file(\n",
    "        f, recipients=['daviewning@msn.com'],\n",
    "        output=encrypted_file)\n",
    "\n",
    "print('ok: ')\n",
    "print(status.ok)\n",
    "print('status: ') \n",
    "print(status.status)\n",
    "print('stderr: ')\n",
    "print(status.stderr)"
   ]
  },
  {
   "cell_type": "code",
   "execution_count": null,
   "id": "54dc988d",
   "metadata": {},
   "outputs": [],
   "source": [
    "#Decrypt file"
   ]
  },
  {
   "cell_type": "code",
   "execution_count": 61,
   "id": "38c51bb4",
   "metadata": {},
   "outputs": [
    {
     "name": "stdout",
     "output_type": "stream",
     "text": [
      "ok: \n",
      "True\n",
      "status: \n",
      "decryption ok\n",
      "stderr: \n",
      "[GNUPG:] ENC_TO 5D15F931178E4CEB 1 0\r\n",
      "[GNUPG:] KEY_CONSIDERED 12E89F6E855831E1454B72D75D15F931178E4CEB 0\r\n",
      "gpg: encrypted with rsa2048 key, ID 5D15F931178E4CEB, created 2022-11-30\r\n",
      "      \"Autogenerated Key <daviewning@msn.com>\"\r\n",
      "[GNUPG:] KEY_CONSIDERED 26F2BCC1C24DBEAA07E47CB9698F47E8C06B8690 0\r\n",
      "[GNUPG:] KEY_CONSIDERED 3185684DCAC12F09E5211604D75241E15A259829 0\r\n",
      "[GNUPG:] KEY_CONSIDERED 80E998FE3B0B0A0C568771CCF5F19E93219FF72B 0\r\n",
      "[GNUPG:] KEY_CONSIDERED 8552D5ABD2643C546977CD2ABC9BE594E9D398EE 0\r\n",
      "[GNUPG:] KEY_CONSIDERED 12E89F6E855831E1454B72D75D15F931178E4CEB 0\r\n",
      "[GNUPG:] KEY_CONSIDERED 12E89F6E855831E1454B72D75D15F931178E4CEB 0\r\n",
      "[GNUPG:] DECRYPTION_KEY 12E89F6E855831E1454B72D75D15F931178E4CEB 12E89F6E855831E1454B72D75D15F931178E4CEB u\r\n",
      "[GNUPG:] BEGIN_DECRYPTION\r\n",
      "[GNUPG:] DECRYPTION_INFO 0 9 2\r\n",
      "[GNUPG:] PLAINTEXT 62 1669791163 \r\n",
      "[GNUPG:] PLAINTEXT_LENGTH 32\r\n",
      "[GNUPG:] DECRYPTION_OKAY\r\n",
      "[GNUPG:] GOODMDC\r\n",
      "[GNUPG:] END_DECRYPTION\r\n",
      "\n"
     ]
    }
   ],
   "source": [
    "with open(encrypted_file, 'rb') as f:\n",
    "    status = gpg.decrypt_file(f, passphrase='mypassphrase', output=decrypted_file)\n",
    "\n",
    "print('ok: ')\n",
    "print(status.ok)\n",
    "print('status: ')\n",
    "print(status.status)\n",
    "print('stderr: ') \n",
    "print(status.stderr)"
   ]
  },
  {
   "cell_type": "code",
   "execution_count": null,
   "id": "50bfa857",
   "metadata": {},
   "outputs": [],
   "source": []
  }
 ],
 "metadata": {
  "kernelspec": {
   "display_name": "Python 3 (ipykernel)",
   "language": "python",
   "name": "python3"
  },
  "language_info": {
   "codemirror_mode": {
    "name": "ipython",
    "version": 3
   },
   "file_extension": ".py",
   "mimetype": "text/x-python",
   "name": "python",
   "nbconvert_exporter": "python",
   "pygments_lexer": "ipython3",
   "version": "3.9.13"
  }
 },
 "nbformat": 4,
 "nbformat_minor": 5
}
